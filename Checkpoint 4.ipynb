{
 "cells": [
  {
   "cell_type": "code",
   "execution_count": 6,
   "id": "de448820",
   "metadata": {},
   "outputs": [
    {
     "name": "stdout",
     "output_type": "stream",
     "text": [
      "Enter first number: 20\n",
      "Enter second number: 35\n",
      "Enter Third number: 19\n",
      "Largest number among  the three is 35\n"
     ]
    }
   ],
   "source": [
    "n1=int(input(\"Enter first number: \"));\n",
    "\n",
    "n2=int(input(\"Enter second number: \"));\n",
    "\n",
    "n3=int(input(\"Enter Third number: \"));\n",
    "\n",
    "def f():\n",
    "\n",
    "    if(n1>=n2) and (n1>=n3):\n",
    "\n",
    "        l=n1\n",
    "\n",
    "    elif(n2>=n1) and (n2>=n3):\n",
    "\n",
    "         l=n2\n",
    "\n",
    "    else:\n",
    "\n",
    "         l=n3\n",
    "\n",
    "    print(\"Largest number among  the three is\",l)\n",
    "\n",
    "f()"
   ]
  },
  {
   "cell_type": "code",
   "execution_count": 10,
   "id": "363e41b1",
   "metadata": {},
   "outputs": [
    {
     "name": "stdout",
     "output_type": "stream",
     "text": [
      "Enter first number: 40\n",
      "Enter second number: 10\n",
      "(50, 30)\n"
     ]
    }
   ],
   "source": [
    "n1=int(input(\"Enter first number: \"));\n",
    "\n",
    "n2=int(input(\"Enter second number: \"));\n",
    "def calculation(a,b):\n",
    "    return a+b,a-b\n",
    "\n",
    "res = calculation(n1, n2)\n",
    "print(res)"
   ]
  },
  {
   "cell_type": "code",
   "execution_count": 25,
   "id": "93df85ef",
   "metadata": {},
   "outputs": [
    {
     "name": "stdout",
     "output_type": "stream",
     "text": [
      "6\n",
      "Sum of all elements in given list:  74\n"
     ]
    }
   ],
   "source": [
    "def multiplyList(myList) :\n",
    "    result = 1\n",
    "    for x in myList:\n",
    "         result = result * x\n",
    "    return result\n",
    "list1 = [1, 2, 3]\n",
    "print(multiplyList(list1))\n",
    "\n",
    "#################\n",
    "total = 0\n",
    "list1 = [11, 5, 17, 18, 23]\n",
    "for ele in range(0, len(list1)):\n",
    "    total = total + list1[ele]\n",
    "\n",
    "print(\"Sum of all elements in given list: \", total)\n",
    "###################\n"
   ]
  },
  {
   "cell_type": "code",
   "execution_count": 3,
   "id": "9a9f6282",
   "metadata": {},
   "outputs": [
    {
     "name": "stdout",
     "output_type": "stream",
     "text": [
      "enter the string:  green - red - yellow - black - white\n",
      " black - green - red - white- yellow \n"
     ]
    }
   ],
   "source": [
    "n=input(\"enter the string: \") \n",
    "l=n.split('-') \n",
    "l.sort() \n",
    "print('-'.join(l)) "
   ]
  },
  {
   "cell_type": "code",
   "execution_count": 6,
   "id": "b5c061a3",
   "metadata": {},
   "outputs": [
    {
     "name": "stdout",
     "output_type": "stream",
     "text": [
      "Provide D: 100,150,180\n",
      "[18, 22, 24]\n"
     ]
    }
   ],
   "source": [
    "import math\n",
    "numbers = input(\"Provide D: \")\n",
    "numbers = numbers.split(',')\n",
    "result_list = []\n",
    "for D in numbers:\n",
    "    Q = round(math.sqrt(2 * 50 * int(D) / 30))\n",
    "    result_list.append(Q)\n",
    "print(result_list)"
   ]
  }
 ],
 "metadata": {
  "kernelspec": {
   "display_name": "Python 3",
   "language": "python",
   "name": "python3"
  },
  "language_info": {
   "codemirror_mode": {
    "name": "ipython",
    "version": 3
   },
   "file_extension": ".py",
   "mimetype": "text/x-python",
   "name": "python",
   "nbconvert_exporter": "python",
   "pygments_lexer": "ipython3",
   "version": "3.8.8"
  }
 },
 "nbformat": 4,
 "nbformat_minor": 5
}
